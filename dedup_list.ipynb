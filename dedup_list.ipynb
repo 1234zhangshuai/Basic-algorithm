{
 "cells": [
  {
   "cell_type": "markdown",
   "metadata": {},
   "source": [
    "# 逻辑去除"
   ]
  },
  {
   "cell_type": "code",
   "execution_count": 2,
   "metadata": {},
   "outputs": [],
   "source": [
    "def dedup_list(li):\n",
    "    \"\"\"定义一个列表去重的函数\"\"\"\n",
    "    # 定义一个空列表用于接收不重复的列表元素\n",
    "    dedup_li = list()\n",
    "    # 定义一个相关变量，用于下标的判断\n",
    "    index = 0\n",
    "    # 相同的任意个元素，用列表的index方法只能取到第一个重复元素的下标\n",
    "    # 遍历列表，同时每取到一个元素，相关变量加1，保持和遍历到的元素下标值相同\n",
    "    # 只有当当前元素的下标值和当前元素的index取到的下标一致才能加入去重列表中\n",
    "    for temp in li:\n",
    "        if li.index(temp) == index:\n",
    "            dedup_li.append(temp)\n",
    "        index += 1\n",
    "    return dedup_li"
   ]
  },
  {
   "cell_type": "code",
   "execution_count": 5,
   "metadata": {},
   "outputs": [],
   "source": [
    "li = [1, 1, 2, 3, 4, 5, 5, 6]"
   ]
  },
  {
   "cell_type": "code",
   "execution_count": 6,
   "metadata": {},
   "outputs": [
    {
     "name": "stdout",
     "output_type": "stream",
     "text": [
      "[1, 2, 3, 4, 5, 6]\n"
     ]
    }
   ],
   "source": [
    "print(dedup_list(li))"
   ]
  },
  {
   "cell_type": "code",
   "execution_count": 8,
   "metadata": {},
   "outputs": [],
   "source": [
    "# def delete_same_item_in_list(li):\n",
    "#     new_li = list()\n",
    "#     for item in li:\n",
    "#         if item not in new_li:\n",
    "#             new_li.append(item)\n",
    "#         else:\n",
    "#             continue\n",
    "#     return new_li\n",
    " \n",
    " \n",
    "# li = [1, 2, 3, 4, 4, 5, 5, 5, 6, 7]\n",
    "# print(delete_same_item_in_list(li))\n"
   ]
  },
  {
   "cell_type": "code",
   "execution_count": null,
   "metadata": {},
   "outputs": [],
   "source": [
    "# li = ['b','c','d','b','c','a','a']\n",
    "# dedup_li = []\n",
    "# [dedup_li.append(i) for i in li if not i in dedup_li]"
   ]
  }
 ],
 "metadata": {
  "kernelspec": {
   "display_name": "Python 3",
   "language": "python",
   "name": "python3"
  },
  "language_info": {
   "codemirror_mode": {
    "name": "ipython",
    "version": 3
   },
   "file_extension": ".py",
   "mimetype": "text/x-python",
   "name": "python",
   "nbconvert_exporter": "python",
   "pygments_lexer": "ipython3",
   "version": "3.6.5"
  }
 },
 "nbformat": 4,
 "nbformat_minor": 2
}
