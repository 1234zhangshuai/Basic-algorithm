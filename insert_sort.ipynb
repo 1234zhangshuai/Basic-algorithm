{
 "cells": [
  {
   "cell_type": "code",
   "execution_count": 26,
   "metadata": {},
   "outputs": [],
   "source": [
    "##插入排序\n",
    "def insert_sort(a):\n",
    "    for i in range(1,len(a)):\n",
    "        j = i\n",
    "        while j > 0 and a[j] < a[j - 1]:\n",
    "            a[j], a[j - 1] = a[j - 1], a[j]\n",
    "            j -= 1\n",
    "    return a\n"
   ]
  },
  {
   "cell_type": "code",
   "execution_count": 27,
   "metadata": {},
   "outputs": [],
   "source": [
    "a = [9,8,7,6,5,4,3,2,1,0,-1,-2]"
   ]
  },
  {
   "cell_type": "code",
   "execution_count": 28,
   "metadata": {},
   "outputs": [
    {
     "data": {
      "text/plain": [
       "[-2, -1, 0, 1, 2, 3, 4, 5, 6, 7, 8, 9]"
      ]
     },
     "execution_count": 28,
     "metadata": {},
     "output_type": "execute_result"
    }
   ],
   "source": [
    "insert(a)"
   ]
  },
  {
   "cell_type": "code",
   "execution_count": null,
   "metadata": {},
   "outputs": [],
   "source": []
  },
  {
   "cell_type": "code",
   "execution_count": 35,
   "metadata": {},
   "outputs": [
    {
     "name": "stdout",
     "output_type": "stream",
     "text": [
      "[9, 8, 7, 6, 5, 4, 3, 2, 1, 0, -1, -2]\n",
      "[-2, -1, 0, 1, 2, 3, 4, 5, 6, 7, 8, 9]\n"
     ]
    }
   ],
   "source": [
    "def insert_sort1(list):\n",
    "    for j in range(1,len(list)):\n",
    "        small = list[j]\n",
    "        i = j-1\n",
    "        while (i>=0 and list[i]>small):\n",
    "            list[i+1] = list[i]\n",
    "            i = i-1\n",
    "        list[i+1] = small\n",
    "    return list\n",
    "A = [9,8,7,6,5,4,3,2,1,0,-1,-2]\n",
    "print(A)\n",
    "print(insert_sort1(A))\n"
   ]
  },
  {
   "cell_type": "code",
   "execution_count": null,
   "metadata": {},
   "outputs": [],
   "source": []
  }
 ],
 "metadata": {
  "kernelspec": {
   "display_name": "Python 3",
   "language": "python",
   "name": "python3"
  },
  "language_info": {
   "codemirror_mode": {
    "name": "ipython",
    "version": 3
   },
   "file_extension": ".py",
   "mimetype": "text/x-python",
   "name": "python",
   "nbconvert_exporter": "python",
   "pygments_lexer": "ipython3",
   "version": "3.6.5"
  }
 },
 "nbformat": 4,
 "nbformat_minor": 2
}
