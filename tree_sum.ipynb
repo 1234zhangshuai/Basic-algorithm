{
 "cells": [
  {
   "cell_type": "markdown",
   "metadata": {},
   "source": [
    "# 三数之和"
   ]
  },
  {
   "cell_type": "code",
   "execution_count": 99,
   "metadata": {},
   "outputs": [],
   "source": [
    "class Solution:\n",
    "    def threeSum(self, nums):\n",
    "        \"\"\"\n",
    "        :type nums: List[int]\n",
    "        :rtype: List[List[int]]\n",
    "        \"\"\"\n",
    "        y_cbt = []\n",
    "        for i in range(len(nums)):\n",
    "            for j in range(i+1, len(nums)):\n",
    "                for k in range(j+1, len(nums)):\n",
    "                    if nums[i] + nums[j] + nums[k] == 0:\n",
    "                        y_cbt.append([nums[i], nums[j], nums[k]])\n",
    "        cbt =[]\n",
    "        for value in y_cbt:\n",
    "            New_value = self.selectionSort(value)\n",
    "            cbt.append(New_value)\n",
    "        n_arr = []\n",
    "        for value in cbt: \n",
    "            if value not in n_arr:\n",
    "                n_arr.append(value)\n",
    "        return n_arr\n",
    "    \n",
    "    def findSmallest(self, arr):\n",
    "        smallest = arr[0] # 存储数组中最小的值\n",
    "        smallest_index = 0 # 存储最小元素的索引\n",
    "        for i in range(1, len(arr)):\n",
    "            if arr[i] < smallest:\n",
    "                smallest = arr[i]\n",
    "                smallest_index = i\n",
    "        return smallest_index\n",
    "\n",
    "    def selectionSort(self, arr): # 对数组进行排序\n",
    "        newArr = []\n",
    "        for i in range(len(arr)):\n",
    "            smallest = self.findSmallest(arr) # 找出数组中最小的元素，并将其加入到新的数组中\n",
    "            newArr.append(arr.pop(smallest))\n",
    "        return newArr"
   ]
  },
  {
   "cell_type": "code",
   "execution_count": 100,
   "metadata": {},
   "outputs": [],
   "source": [
    "nums = [-1, 0, 1, 2, -1, -4]"
   ]
  },
  {
   "cell_type": "code",
   "execution_count": 101,
   "metadata": {},
   "outputs": [],
   "source": [
    "a = Solution()"
   ]
  },
  {
   "cell_type": "code",
   "execution_count": 102,
   "metadata": {},
   "outputs": [],
   "source": [
    "cbt = a.threeSum(nums)"
   ]
  },
  {
   "cell_type": "code",
   "execution_count": 103,
   "metadata": {},
   "outputs": [
    {
     "name": "stdout",
     "output_type": "stream",
     "text": [
      "[[-1, 0, 1], [-1, -1, 2]]\n"
     ]
    }
   ],
   "source": [
    "print(cbt)"
   ]
  }
 ],
 "metadata": {
  "kernelspec": {
   "display_name": "Python 3",
   "language": "python",
   "name": "python3"
  },
  "language_info": {
   "codemirror_mode": {
    "name": "ipython",
    "version": 3
   },
   "file_extension": ".py",
   "mimetype": "text/x-python",
   "name": "python",
   "nbconvert_exporter": "python",
   "pygments_lexer": "ipython3",
   "version": "3.6.5"
  }
 },
 "nbformat": 4,
 "nbformat_minor": 2
}
